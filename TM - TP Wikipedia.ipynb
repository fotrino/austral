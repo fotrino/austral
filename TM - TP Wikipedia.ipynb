{
  "nbformat": 4,
  "nbformat_minor": 0,
  "metadata": {
    "kernelspec": {
      "display_name": "Python 3",
      "language": "python",
      "name": "python3"
    },
    "language_info": {
      "codemirror_mode": {
        "name": "ipython",
        "version": 3
      },
      "file_extension": ".py",
      "mimetype": "text/x-python",
      "name": "python",
      "nbconvert_exporter": "python",
      "pygments_lexer": "ipython3",
      "version": "3.8.5"
    },
    "colab": {
      "name": "TM - TP Wikipedia.ipynb",
      "provenance": [],
      "include_colab_link": true
    }
  },
  "cells": [
    {
      "cell_type": "markdown",
      "metadata": {
        "id": "view-in-github",
        "colab_type": "text"
      },
      "source": [
        "<a href=\"https://colab.research.google.com/github/fotrino/text-mining/blob/main/TM%20-%20TP%20Wikipedia.ipynb\" target=\"_parent\"><img src=\"https://colab.research.google.com/assets/colab-badge.svg\" alt=\"Open In Colab\"/></a>"
      ]
    },
    {
      "cell_type": "markdown",
      "metadata": {
        "id": "z16X0eycwzkG"
      },
      "source": [
        "### Run only if libraries are not installed"
      ]
    },
    {
      "cell_type": "code",
      "metadata": {
        "scrolled": true,
        "id": "voWuBh75wzkI"
      },
      "source": [
        "%%capture\n",
        "\n",
        "import os\n",
        "import nltk\n",
        "nltk.download('all')"
      ],
      "execution_count": 1,
      "outputs": []
    },
    {
      "cell_type": "code",
      "metadata": {
        "id": "Yi132Fb-wzkH"
      },
      "source": [
        "%%capture\n",
        "\n",
        "! pip install -U spacy\n",
        "! python -m spacy download es_core_news_lg\n",
        "! python -m spacy download es\n",
        "\n",
        "! pip install wikipedia"
      ],
      "execution_count": 2,
      "outputs": []
    },
    {
      "cell_type": "markdown",
      "metadata": {
        "id": "YQuoHyq4wzkJ"
      },
      "source": [
        "### Get Data from Wikipedia"
      ]
    },
    {
      "cell_type": "code",
      "metadata": {
        "scrolled": true,
        "id": "yt5ULEJEwzkJ"
      },
      "source": [
        "import wikipedia"
      ],
      "execution_count": 3,
      "outputs": []
    },
    {
      "cell_type": "code",
      "metadata": {
        "id": "nRLOvV4LwzkK"
      },
      "source": [
        "wikipedia.set_lang(\"es\")\n",
        "\n",
        "subject = ['Argentina']\n",
        "\n",
        "wikiPage = wikipedia.page(wikipedia.search(subject)[0]).content"
      ],
      "execution_count": 4,
      "outputs": []
    },
    {
      "cell_type": "markdown",
      "metadata": {
        "id": "JMVQtKAk2l2G"
      },
      "source": [
        "#### Original Text"
      ]
    },
    {
      "cell_type": "code",
      "metadata": {
        "colab": {
          "base_uri": "https://localhost:8080/",
          "height": 154
        },
        "id": "qOMkzMF9qQv9",
        "outputId": "2f050541-eee5-4e48-a814-5bcc50220c8b"
      },
      "source": [
        "wikiPage[:1500]"
      ],
      "execution_count": 6,
      "outputs": [
        {
          "output_type": "execute_result",
          "data": {
            "application/vnd.google.colaboratory.intrinsic+json": {
              "type": "string"
            },
            "text/plain": [
              "'Argentina, oficialmente República Argentina,[e]\\u200b es un país soberano de América del Sur, ubicado en el extremo sur y sudeste de dicho subcontinente. Adopta la forma de gobierno republicana, democrática, representativa y federal.\\nLa Argentina está organizada como un Estado federal descentralizado, integrado desde 1994 por un Estado nacional y 24 jurisdicciones de primer orden[12]\\u200b o estados autogobernados,[13]\\u200b[14]\\u200b que son 23 provincias y la Ciudad Autónoma de Buenos Aires (CABA), esta última designada como Capital Federal del país. Todos los estados autogobernados tienen constitución, bandera y fuerza de seguridad propios. Las 23 provincias mantienen todos los poderes no delegados al Estado nacional, tienen tres poderes autónomos y garantizan la autonomía de sus municipios.[15]\\u200b[16]\\u200b \\nIntegra el Mercosur —bloque del que fue fundador en 1991—, la Comunidad de Estados Latinoamericanos y Caribeños (CELAC) y la Organización de Estados Americanos (OEA).\\nEn 2019, su Índice de Desarrollo Humano (IDH) fue del 0.845, ubicándolo en el grupo de países de desarrollo humano muy alto, en el puesto 46.[17]\\u200b Ajustado por desigualdad la Argentina retrocede cuatro lugares en la clasificación, en tanto que según el índice de desigualdad de género su ubicación retrocede al puesto 75.[17]\\u200b En educación la ley establece que el gasto público en educación no debe ser inferior al 6% del PBI, aunque pese a ello el gasto se ubicó en 5.5% del PBI en 2017[18]\\u200b con una tasa de alfabetismo de las personas'"
            ]
          },
          "metadata": {
            "tags": []
          },
          "execution_count": 6
        }
      ]
    },
    {
      "cell_type": "markdown",
      "metadata": {
        "id": "7WS4ykpEwzkK"
      },
      "source": [
        "### Pre-Processing"
      ]
    },
    {
      "cell_type": "code",
      "metadata": {
        "id": "JlmkCLgEwzkK"
      },
      "source": [
        "import re\n",
        "import os\n",
        "import spacy\n",
        "import pprint\n",
        "import string\n",
        "from nltk.corpus import stopwords\n",
        "from nltk.tokenize import word_tokenize\n",
        "\n",
        "pp = pprint.PrettyPrinter(compact=True)"
      ],
      "execution_count": 7,
      "outputs": []
    },
    {
      "cell_type": "code",
      "metadata": {
        "id": "CRF87QX6wzkL"
      },
      "source": [
        "def pre_processsing(text):\n",
        "    spanish_stops = set(stopwords.words('spanish'))\n",
        "    spanish_stops.update(string.punctuation)\n",
        "    nlp = spacy.load(\"es_core_news_lg\")\n",
        "\n",
        "    text = re.sub('\\[[a-zA-Z0-9]+\\]\\\\u200b|=|\\`|\\'|—|\\\"|\\»|\\«|\\º|\\“|[0-9]', '', text)\n",
        "    text = word_tokenize(text)\n",
        "    text = [x.lower() for x in text if x.lower() not in spanish_stops]\n",
        "\n",
        "    text = nlp(\" \".join(text))\n",
        "    text = [token.lemma_ for token in text ]\n",
        "\n",
        "    return text"
      ],
      "execution_count": 8,
      "outputs": []
    },
    {
      "cell_type": "markdown",
      "metadata": {
        "id": "mQyji_i_2rOC"
      },
      "source": [
        "#### Processed Result"
      ]
    },
    {
      "cell_type": "code",
      "metadata": {
        "colab": {
          "base_uri": "https://localhost:8080/"
        },
        "id": "uiA3hLSIwzkL",
        "outputId": "9bb51fb8-dc73-4c43-a4b7-4b91f1cef95c"
      },
      "source": [
        "results = pre_processsing(wikiPage)\n",
        "pp.pprint(results[:1500])"
      ],
      "execution_count": 9,
      "outputs": [
        {
          "output_type": "stream",
          "text": [
            "['argentino', 'oficialmente', 'repúblico', 'argentino', 'país', 'soberano',\n",
            " 'américo', 'sur', 'ubicado', 'extremo', 'sur', 'sudeste', 'dicho',\n",
            " 'subcontinente', 'adoptar', 'forma', 'gobierno', 'republicano', 'democrático',\n",
            " 'representativo', 'federal', 'argentino', 'organizado', 'federal',\n",
            " 'descentralizado', 'integrado', 'nacional', 'jurisdicción', 'primero', 'orden',\n",
            " 'autogobernado', 'provincia', 'ciudad', 'autónomo', 'buen', 'aire', 'car',\n",
            " 'último', 'designado', 'capital', 'federal', 'país', 'autogobernado',\n",
            " 'constitución', 'bandero', 'fuerza', 'seguridad', 'propio', 'provincia',\n",
            " 'mantener', 'poder', 'delegado', 'nacional', 'tres', 'poder', 'autónomo',\n",
            " 'garantizar', 'autonomía', 'municipio', 'integrar', 'mercosur', 'bloque',\n",
            " 'fundador', 'comunidad', 'latinoamericano', 'caribeño', 'celac',\n",
            " 'organización', 'americano', 'oea', 'índice', 'desarrollo', 'humano', 'idh',\n",
            " 'ubicando él', 'grupo', 'país', 'desarrollo', 'humano', 'alto', 'puesto',\n",
            " 'ajustado', 'desigualdad', 'argentino', 'retroceder', 'cuatro', 'lugar',\n",
            " 'clasificación', 'según', 'índice', 'desigualdad', 'género', 'ubicación',\n",
            " 'retroceder', 'puesto', 'educación', 'ley', 'establecer', 'gasto', 'público',\n",
            " 'educación', 'deber', 'ser', 'inferior', 'pbi', 'aunque', 'pese', 'él',\n",
            " 'gasto', 'ubicar', 'pbi', 'tasa', 'alfabetismo', 'persona', 'mayor', 'año',\n",
            " 'superior', 'economía', 'argentino', 'segundo', 'desarrollado', 'importante',\n",
            " 'sudamérico', 'según', 'banco', 'mundial', 'pib', 'nominal', 'mundo', 'debido',\n",
            " 'importancia', 'geopolítico', 'económico', 'tres', 'soberano',\n",
            " 'latinoamericano', 'formar', 'parte', 'denominado', 'grupo', 'integrar',\n",
            " 'además', 'grupo', 'nic', 'nuevo', 'país', 'industrializado', 'único', 'país',\n",
            " 'latinoamericano', 'centro', 'investigación', 'enseñanza', 'científico',\n",
            " 'diez', 'mejor', 'mundo', 'país', 'iberoamericano', 'mayor', 'cantidad',\n",
            " 'premio', 'nobel', 'ciencia', 'capacidad', 'tecnológico', 'científica',\n",
            " 'permitido', 'diseñar', 'producir', 'exportar', 'satélite', 'construir',\n",
            " 'reactor', 'nuclear', 'ser', 'primero', 'productor', 'software', 'aeronave',\n",
            " 'cosa', 'considerado', 'potencia', 'regional', 'brindado', 'creciente',\n",
            " 'cooperación', 'nuclear', 'país', 'américo', 'latino', 'magreb', 'golfo',\n",
            " 'pérsico', 'sudeste', 'asiático', 'oceanía', 'partir', 'capacidad',\n",
            " 'desarrollado', 'comisión', 'nacional', 'energía', 'atómico', 'cneo',\n",
            " 'prestigioso', 'empresa', 'estatal', 'invap', 'país', 'latinoamericano',\n",
            " 'premio', 'nobel', 'ganado', 'cinco', 'total', 'tres', 'vinculado', 'ciencia',\n",
            " 'superficie', 'km²', 'país', 'hispanohablante', 'extenso', 'planeta',\n",
            " 'segundo', 'grande', 'américo', 'latino', 'octavo', 'mundo', 'si',\n",
            " 'considerar', 'solo', 'superficie', 'continental', 'sujeto', 'soberanía',\n",
            " 'efectivo', 'plataforma', 'continental', 'reconocido', 'onu', 'alcanzar',\n",
            " 'km²', 'convertir él', 'grande', 'mundo', 'extender él', 'continente',\n",
            " 'americano', 'polo', 'sur', 'antártido', 'través', 'atlántico', 'sur', 'si',\n",
            " 'contar', 'isla', 'malvina', 'georgia', 'sur', 'sandwich', 'sur', 'numeroso',\n",
            " 'isla', 'menor', 'administrado', 'reino', 'unido', 'soberanía', 'litigio',\n",
            " 'porción', 'área', 'antártico', 'llamado', 'antártido', 'argentino', 'sur',\n",
            " 'paralelo', '°', 's', 'argentino', 'reclamar', 'soberanía', 'superficie',\n",
            " 'elevar', 'km²', 'veinte', 'país', 'presencia', 'permanente', 'antártido',\n",
            " 'ser', 'mayor', 'cantidad', 'base', 'permanente', 'seis', 'base', 'total',\n",
            " 'territorio', 'reúnir', 'gran', 'diversidad', 'clima', 'causado', 'amplitud',\n",
            " 'latitudinal', 'superar', '°', 'incluir', 'varios', 'zona', 'geoastronómica',\n",
            " 'diferenciar', 'altitud', 'ir', 'm', 'bajo', 'nivel', 'mar', 'laguna',\n",
            " 'carbón', 'casi', 'msnm', 'extensión', 'litoral', 'marítimo', 'alcanzar', 'km',\n",
            " 'amplio', 'llanura', 'húmedo', 'limitar', 'extenso', 'desierto', 'alto',\n",
            " 'montaña', 'mientras', 'presenciar', 'clima', 'tropical', 'subtropical',\n",
            " 'norte', 'contrastar', 'nevada', 'frío', 'extremo', 'zona', 'cordillerana',\n",
            " 'sur', 'territorio', 'continental', 'americano', 'abarcar', 'gran', 'parte',\n",
            " 'cono', 'sur', 'limitar', 'norte', 'bolivio', 'paraguay', 'nordeste', 'brasil',\n",
            " 'uruguay', 'océano', 'atlántico', 'oeste', 'chile', 'siempre', 'sector',\n",
            " 'americano', 'sur', 'chile', 'agua', 'atlántico', 'pasaje', 'drake', 'primero',\n",
            " 'registro', 'poblador', 'actual', 'territorio', 'argentino', 'remontar',\n",
            " 'trece', 'mil', 'año', 'ap', 'paleoamericano', 'tiempo', 'protohistórico',\n",
            " 'periodo', 'precolombino', 'habitado', 'numeroso', 'pueblo', 'indígena',\n",
            " 'cual', 'aún', 'habitar', 'país', 'guaycurú', 'guaraníes', 'mapuch',\n",
            " 'tehuelch', 'diaguita', 'último', 'formar', 'parte', 'imperio', 'incaico',\n",
            " 'colonización', 'español', 'actual', 'territorio', 'argentino', 'comenzar',\n",
            " 'viaje', 'exploratorio', 'año', 'establecimiento', 'población', 'distribución',\n",
            " 'territorio', 'adelantado', 'tarde', 'quedar', 'bajo', 'jurisdicción',\n",
            " 'virreinato', 'perú', 'corona', 'español', 'fundar', 'virreinato', 'río',\n",
            " 'plata', 'entidad', 'político', 'precedente', 'actual', 'república',\n",
            " 'argentino', 'mayo', 'alcanzar', 'independencia', 'facto', 'depuesto',\n",
            " 'último', 'virrey', 'español', 'gobernar', 'buen', 'aire', 'organizar él',\n",
            " 'primero', 'junta', 'gobierno', 'julio', 'proclamado', 'independencia', 'san',\n",
            " 'miguel', 'tucumán', 'toponimia', 'nombre', 'oficial', 'país', 'repúblico',\n",
            " 'argentino', 'literalmente', 'repúblico', 'plato', 'elipsi', 'soler',\n",
            " 'denominar él', 'argentino', 'uso', 'artículo', 'extendido', 'considerar',\n",
            " 'incorrecto', 'si', 'bien', 'academia', 'argentino', 'letra', 'calificado',\n",
            " 'reprensible', 'argentino', 'femenino', 'adjetivo', 'poético', 'argentino',\n",
            " 'indicar', 'cualidad', 'plata', 'relacionado', 'latín', 'argentum',\n",
            " 'significar', 'plata', 'argentum', 'vez', 'proceder', 'protoitálico', '*',\n",
            " 'argentom', 'derivado', 'protoindoeuropeo', '*', 'h₂r̥ǵn̥tóm', 'sustantivo',\n",
            " 'formado', 'partir', 'adjetivo', '*', 'h₂erǵ-', 'significar', 'blanco', '”',\n",
            " 'bien', 'brillante', 'argentino', 'denominación', 'poético', 'país',\n",
            " 'ribereño', 'plata', 'río', 'llamado', 'así', 'acceso', 'yacimiento',\n",
            " 'argentíferos', 'alto', 'perú', 'ciudad', 'plata', 'charca', 'actual', 'sucre',\n",
            " 'llamado', 'civita', 'argentino', 'ciudad', 'argentino', 'uso', 'topónimo',\n",
            " 'aunque', 'declinación', 'diferente', 'aparecer', 'primero', 'vez', 'mapa',\n",
            " 'lopo', 'homem', 'territorio', 'región', 'litoral', 'llamado', 'terra',\n",
            " 'argentear', 'tarde', 'martín', 'barco', 'centenero', 'elegir', 'imitación',\n",
            " 'araucán', 'título', 'poema', 'épico', 'conquisto', 'argentino', 'entonces',\n",
            " 'final', 'siglo', 'xviii', 'argentino', 'argentino', 'denominación',\n",
            " 'literario', 'territorio', 'poblador', 'región', 'rioplatense', 'creación',\n",
            " 'virreinato', 'río', 'plata', 'posterior', 'independencia', 'provincia',\n",
            " 'unido', 'río', 'plata', 'argentino', 'argentino', 'hacer', 'común', 'aunque',\n",
            " 'vez', 'connotación', 'restringido', 'buen', 'aire', 'provinicia', 'cercano',\n",
            " 'constitución', 'usar', 'argentino', 'nombre', 'oficial', 'entonces', 'pesar',\n",
            " 'rechazo', 'dicho', 'constitución', 'usado', 'manera', 'habitual', 'partir',\n",
            " 'década', 'rosa', 'formalmente', 'gobernador', 'buen', 'aire', 'encargado',\n",
            " 'dirigir', 'relación', 'exterior', 'república', 'argentino', 'constitución',\n",
            " 'argentino', 'indicar', 'provincia', 'unido', 'río', 'plata', 'repúblico',\n",
            " 'argentino', 'confederación', 'argentino', 'nombre', 'mientras', 'nación',\n",
            " 'argentino', 'usado', 'sancionar', 'ley', 'ciudad', 'paraná', 'entonces',\n",
            " 'capital', 'confederación', 'argentino', 'presidente', 'derqui', 'decretar',\n",
            " 'uniformar', 'acto', 'administrativo', 'usar', 'siempre', 'república',\n",
            " 'argentino', 'dos', 'año', 'tarde', 'bartolomé', 'mitre', 'primero',\n",
            " 'presidente', 'país', 'reunificado', 'referir', 'cargo', 'presidente',\n",
            " 'nación', 'argentino', 'historia', 'período', 'prehispánico', 'conquista',\n",
            " 'colonización', 'español', 'independencia', 'primero', 'junta', 'gobierno',\n",
            " 'primero', 'junta', 'gobierno', 'oficialmente', 'junto', 'provisional',\n",
            " 'gubernativo', 'provincia', 'río', 'plata', 'nombre', 'señor', 'don',\n",
            " 'fernando', 'vii', 'juntar', 'gobierno', 'surgido', 'viernes', 'mayo', 'buen',\n",
            " 'aire', 'capital', 'virreinato', 'río', 'plata', 'consecuenciar', 'triunfo',\n",
            " 'revolución', 'mayo', 'destituir', 'virrey', 'baltasar', 'hidalgo', 'cisnero',\n",
            " 'nombrar', 'cornelio', 'saavedra', 'presidente', 'primero', 'junta',\n",
            " 'provincia', 'unido', 'río', 'plata', 'sede', 'gobierno', 'fijado', 'fuerte',\n",
            " 'buen', 'aire', 'servir', 'residencia', 'virrey', 'hoy', 'encontrar', 'casa',\n",
            " 'gobierno', 'primero', 'junta', 'existir', 'tal', 'diciembre', 'mismo', 'año',\n",
            " 'incorporación', 'diputado', 'interior', 'transformar', 'junta', 'grande',\n",
            " 'dar', 'origen', 'prolongado', 'guerra', 'independencia', 'provincia', 'unido',\n",
            " 'río', 'plata', 'españo', 'mientras', 'desarrollar', 'guerra', 'independencia',\n",
            " 'lugar', 'complejo', 'disputa', 'formar', 'organización', 'nuevo', 'generar',\n",
            " 'inicio', 'guerra', 'civil', 'intermitencia', 'durar', 'medio', 'siglo',\n",
            " 'líder', 'fracción', 'federal', 'oriental', 'josé', 'gervasio', 'artiga',\n",
            " 'proclamado', 'protector', 'unión', 'pueblo', 'libre', 'liga', 'provincia',\n",
            " 'negar', 'ser', 'administrar', 'gobierno', 'unitario', 'buen', 'aire', 'mismo',\n",
            " 'organizar', 'llamado', 'congreso', 'oriente', 'concepción', 'uruguay', 'aún',\n",
            " 'discutir', 'si', 'alcanzar', 'proclamar', 'proponer', 'independencia',\n",
            " 'españo', 'julio', 'ciudad', 'san', 'miguel', 'tucumán', 'reunido', 'congreso',\n",
            " 'diputado', 'provincia', 'noroeste', 'centro-oeste', 'país', 'buen', 'aire',\n",
            " 'junto', 'diputado', 'exiliado', 'alto', 'perú', 'proclamar', 'independencia',\n",
            " 'provincia', 'unido', 'sud', 'américo', 'utilizar', 'siguiente', 'fórmula',\n",
            " 'varios', 'punto', 'sudamérica', 'nuevo', 'gobierno', 'deber', 'enfrentar',\n",
            " 'resistencia', 'contrarrevolucionario', 'ejército', 'realista', 'intentar',\n",
            " 'restaurar', 'autoridad', 'monarquía', 'español', 'región', 'comenzar',\n",
            " 'guerra', 'independencia', 'principal', 'comandante', 'manuel', 'belgrano',\n",
            " 'mando', 'ejército', 'norte', 'josé', 'san', 'martín', 'creador', 'ejército',\n",
            " 'and', 'martín', 'miguel', 'güemes', 'organizador', 'guerra', 'gaucha',\n",
            " 'juana', 'azurduy', 'comandante', 'guerra', 'guerrilla', 'alto', 'perú',\n",
            " 'argentino', 'considerar', 'san', 'martín', 'mayor', 'héroe', 'militar',\n",
            " 'independencia', 'honrar', 'título', 'padre', 'patrio', 'junto', 'simón',\n",
            " 'bolívar', 'máximo', 'responsable', 'gesta', 'libertadora', 'terminar',\n",
            " 'presencia', 'español', 'continente', 'formación', 'federal', 'primero',\n",
            " 'década', 'país', 'independiente', 'conflictivo', 'hegemonía', 'unitario',\n",
            " 'federal', 'alzar', 'repetidamente', 'defensa', 'autonomíar', 'provincia',\n",
            " 'llevar', 'tras', 'llamado', 'anarquía', 'año', 'xx', 'división', 'país',\n",
            " 'provincia', 'autónomo', 'gobernado', 'generalmente', 'caudillo', 'militar',\n",
            " 'mientras', 'país', 'excepto', 'breve', 'intervalo', 'carecer', 'gobierno',\n",
            " 'nacional', 'cada', 'provincia', 'asumir', 'plenitud', 'gobierno', 'ámbito',\n",
            " 'territorio', 'guerro', 'independencia', 'continuar', 'año', 'luchar',\n",
            " 'preferentemente', 'frontera', 'norte', 'perú', 'mientras', 'provincia',\n",
            " 'oriental', 'invadido', 'reino', 'portugal', 'pasar', 'imperio', 'brasil',\n",
            " 'consecuente', 'guerra', 'brasil', 'culminar', 'convención', 'preliminar',\n",
            " 'paz', 'declarar', 'independiente', 'territorio', 'disputar', 'nombre',\n",
            " 'oriental', 'uruguay', 'alto', 'perú', 'formar', 'república', 'bolivio', 'año',\n",
            " 'siguiente', 'agregado', 'ciudad', 'tarijo', 'jurisdicción', 'territorio',\n",
            " 'restante', 'logrado', 'aumentar', 'control', 'territorial', 'exitoso',\n",
            " 'campaña', 'militar', 'indígena', 'comenzar', 'usar', 'nombre', 'argentino',\n",
            " 'manera', 'oficial', 'mediado', 'décado', 'denominación', 'oficial',\n",
            " 'provincia', 'unido', 'río', 'plata', 'continúar', 'considerar él',\n",
            " 'constitucionalmente', 'nombre', 'alternativo', 'país', 'aunque', 'caído',\n",
            " 'práctico', 'desuso', 'principio', 'año', 'federal', 'lograr', 'triunfar',\n",
            " 'país', 'adoptar', 'nombre', 'confederación', 'argentino', 'veinte', 'año',\n",
            " 'gobernador', 'federal', 'buen', 'aire', 'juan', 'manuel', 'rosas', 'asumir',\n",
            " 'hecho', 'máximo', 'autoridad', 'nacional', 'aunque', 'teoría', 'solo',\n",
            " 'depositario', 'representación', 'externo', 'conjunto', 'provincia', 'época',\n",
            " 'hegemonía', 'combatir', 'derrotar', 'sucesivo', 'levantamiento', 'unitario',\n",
            " 'bloqueo', 'río', 'plata', 'parte', 'francio', 'luego', 'bloqueo', 'conjunto',\n",
            " 'parte', 'gran', 'bretaña', 'francia', 'mantener', 'conflicto', 'bélico',\n",
            " 'confederación', 'perú-boliviana', 'llamado', 'gobierno', 'defensa',\n",
            " 'montevideo', 'capital', 'uruguaya', 'debido', 'injerencia', 'dos', 'partido',\n",
            " 'país', 'blanco', 'colorado', 'guerra', 'civil', 'argentino', 'pese', 'paz',\n",
            " 'capaz', 'imponer', 'crecimiento', 'económico', 'menos', 'provincia',\n",
            " 'litoral', 'enemigo', 'rosas', 'reclamar', 'libertad', 'individual',\n",
            " 'política', 'expresión', 'férreamente', 'anulada', 'gobernador', 'porteño',\n",
            " 'núcleo', 'reclar', 'sanción', 'constitución', 'político', 'organizar',\n",
            " 'formalmente', 'nacional', 'garantizar', 'derecho', 'ciudadano',\n",
            " 'organización', 'nacional', 'rosas', 'derrotado', 'batalla', 'casero',\n",
            " 'ejército', 'grande', 'alianza', 'provincia', 'río', 'corriente', 'tropa',\n",
            " 'colorada', 'uruguay', 'brasil', 'alianza', 'encabezado', 'federal',\n",
            " 'antirrosistar', 'justo', 'josé', 'urquizo', 'gobernador', 'río', 'asumir',\n",
            " 'presidencia', 'provisional', 'período', 'durar', 'sanción', 'constitución',\n",
            " 'cambio', 'regido', 'país', 'actualidad', 'mismo', 'adoptar', 'régimen',\n",
            " 'federal', 'provincia', 'buen', 'aire', 'separar', 'confederación',\n",
            " 'argentino', 'deber', 'establecer', 'capital', 'ciudad', 'paraná',\n",
            " 'confederación', 'derrotar', 'buen', 'aire', 'batallar', 'cepeda', 'forzar él',\n",
            " 'firmar', 'pacto', 'san', 'josé', 'flor', 'buen', 'aire', 'reincorporar',\n",
            " 'entonces', 'pasar', 'llamar él', 'república', 'argentino', 'obstante',\n",
            " 'reunificación', 'definitivo', 'logrado', 'bajo', 'dirección', 'buen', 'aire',\n",
            " 'tras', 'batalla', 'pavón', 'presidencia', 'bartolomé', 'mitre', 'argentino',\n",
            " 'involucrar', 'nuevamente', 'guerra', 'civil', 'uruguay', 'paraguay',\n",
            " 'responder', 'ocupar', 'ciudad', 'corriente', 'tras', 'firmar', 'triple',\n",
            " 'alianza', 'brasil', 'uruguay', 'argentino', 'tomar', 'parte', 'guerra',\n",
            " 'triple', 'alianza', 'paraguay', 'durar', 'cinco', 'año', 'requerir',\n",
            " 'participación', 'diez', 'mil', 'soldado', 'argentino', 'paraguay', 'resultar',\n",
            " 'finalmente', 'derrotado', 'quedar', 'totalmente', 'devastado', 'muerto',\n",
            " 'gran', 'parte', 'población', 'masculino', 'pese', 'enorme', 'costo',\n",
            " 'económico', 'vida', 'humano', 'causa', 'continuación', 'guerra', 'civil',\n",
            " 'argentino', 'país', 'lograr', 'consolidar', 'límite', 'noreste', 'fijar',\n",
            " 'frontera', 'río', 'pilcomayo', 'paraguay', 'paraná', 'presidencia', 'mitre',\n",
            " 'sarmiento', 'avellaneda', 'argentino', 'insertar', 'economía', 'mundial',\n",
            " 'país', 'agroexportador', 'sostenido', 'amplio', 'red', 'ferroviario',\n",
            " 'avance', 'sistema', 'educativo', 'tras', 'dos', 'sangriento', 'revolución',\n",
            " 'último', 'año', 'ciudad', 'buen', 'aire', 'federalizado', 'establecer',\n",
            " 'equilibrio', 'durable', 'provincia', 'capital', 'gobierno', 'conservador',\n",
            " 'primero', 'gobierno', 'radical', 'producir', 'llamado', 'conquista',\n",
            " 'desierto', 'chaco', 'objeto', 'dar', 'término', 'constante', 'enfrentamiento',\n",
            " 'indígena', 'criollo', 'fronterir', 'apropiar él', 'territorio', 'indígena',\n",
            " 'triplicar', 'territorio', 'argentino', 'primero', 'conquista', 'impulsado',\n",
            " 'julio', 'a.', 'roca', 'consistir', 'serie', 'incursión', 'militar',\n",
            " 'territorio', 'pampeano', 'patagónico', 'dominado', 'pueblo', 'originario',\n",
            " 'repartiéndolo', 'miembro', 'sociedad', 'rural', 'financiador', 'expedición',\n",
            " 'conquista', 'chaco', 'durar', 'fin', 'siglo', 'dado', 'incorporación',\n",
            " 'pleno', 'sistema', 'económico', 'nacional', 'solo', 'lugar', 'reemplazar',\n",
            " 'mero', 'extracción', 'madera', 'tanino', 'producción', 'algodón', 'gobierno',\n",
            " 'argentino', 'considerar', 'indígena', 'ser', 'inferior', 'mismo', 'derecho',\n",
            " 'criollo', 'europeo', 'partido', 'autonomista', 'nacional', 'pan',\n",
            " 'monopolizar', 'poder', 'base', 'elección', 'fraudulento', 'propiciado',\n",
            " 'sistema', 'voto', 'cantado', 'año', 'figurar', 'excluyente', 'general',\n",
            " 'julio', 'argentino', 'roca', 'llamado', 'república', 'conservador',\n",
            " 'república', 'oligárquico', 'organizar', 'exitoso', 'moderno', 'modelo',\n",
            " 'agroexportador', 'basado', 'llamado', 'división', 'internacional', 'trabajo',\n",
            " 'impuesto', 'imperio', 'británico', 'orientado', 'principalmente',\n",
            " 'producción', 'carne', 'gran', 'destino', 'mercado', 'británico', 'relato',\n",
            " 'tradicional', 'país', 'visto', 'época', 'granero', 'mundo', 'modelo',\n",
            " 'económico', 'generar', 'concentración', 'riqueza', 'poco', 'mano',\n",
            " 'exclusión', 'social', 'clase', 'trabajador', 'población', 'asentado',\n",
            " 'región', 'pampeán', 'economía', 'alcanzar', 'alto', 'nivel', 'crecimiento',\n",
            " 'atraer', 'gran', 'corriente', 'inmigratorio', 'principalmente', 'constituido',\n",
            " 'millón', 'italiano', 'español', 'menor', 'medida', 'seguido', 'europeo']\n"
          ],
          "name": "stdout"
        }
      ]
    },
    {
      "cell_type": "code",
      "metadata": {
        "id": "-XvI8FV4099J"
      },
      "source": [
        ""
      ],
      "execution_count": null,
      "outputs": []
    }
  ]
}