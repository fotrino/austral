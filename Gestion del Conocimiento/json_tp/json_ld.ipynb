{
  "nbformat": 4,
  "nbformat_minor": 0,
  "metadata": {
    "language_info": {
      "codemirror_mode": {
        "name": "ipython",
        "version": 3
      },
      "file_extension": ".py",
      "mimetype": "text/x-python",
      "name": "python",
      "nbconvert_exporter": "python",
      "pygments_lexer": "ipython3",
      "version": "3.8.5"
    },
    "orig_nbformat": 2,
    "kernelspec": {
      "name": "python3",
      "display_name": "Python 3.8.5 64-bit ('cosas': venv)"
    },
    "interpreter": {
      "hash": "0e6cb150d6efb0b48145d2d46c63c113c07f0a08b4f0620f03726508814a037f"
    },
    "colab": {
      "name": "json_ld.ipynb",
      "provenance": [],
      "include_colab_link": true
    }
  },
  "cells": [
    {
      "cell_type": "markdown",
      "metadata": {
        "id": "view-in-github",
        "colab_type": "text"
      },
      "source": [
        "<a href=\"https://colab.research.google.com/github/fotrino/austral/blob/main/Gestion%20del%20Conocimiento/json_tp/json_ld.ipynb\" target=\"_parent\"><img src=\"https://colab.research.google.com/assets/colab-badge.svg\" alt=\"Open In Colab\"/></a>"
      ]
    },
    {
      "cell_type": "markdown",
      "metadata": {
        "id": "SQSLWStAp3U3"
      },
      "source": [
        "# Actividades Web of Data Comisión A\n",
        "\n",
        "## Integrantes:\n",
        "\n",
        "* Del Villar, Javier\n",
        "* Otrino, Facundo Damián\n",
        "* Pistoya, Haydeé Soledad\n",
        "* Rojas, Mariano Arturo\n",
        "* Vaillard, Leandro Carlos\n",
        "\n",
        "## Cargamos Librerías"
      ]
    },
    {
      "cell_type": "code",
      "metadata": {
        "id": "Lwjz5nSTp3U6"
      },
      "source": [
        "import pandas as pd\n",
        "import json\n",
        "import itertools"
      ],
      "execution_count": 41,
      "outputs": []
    },
    {
      "cell_type": "markdown",
      "metadata": {
        "id": "4_cu6Hrdp3U6"
      },
      "source": [
        "## Cargamos JSONs"
      ]
    },
    {
      "cell_type": "code",
      "metadata": {
        "id": "xZqFzkmwp3U7"
      },
      "source": [
        "json_ecartelera = pd.read_json('https://raw.githubusercontent.com/fotrino/austral/main/Gestion%20del%20Conocimiento/json_tp/WW1984ecartelera.json', orient='index')\n",
        "json_IMDB = pd.read_json('https://raw.githubusercontent.com/fotrino/austral/main/Gestion%20del%20Conocimiento/json_tp/WW1984IMDB.json', orient='index')\n",
        "json_Tomatoes = pd.read_json('https://raw.githubusercontent.com/fotrino/austral/main/Gestion%20del%20Conocimiento/json_tp/WW1984Tomatoes.json', orient='index')"
      ],
      "execution_count": 6,
      "outputs": []
    },
    {
      "cell_type": "markdown",
      "metadata": {
        "id": "PM9nnFG9p3U7"
      },
      "source": [
        "## Unificamos JSONs"
      ]
    },
    {
      "cell_type": "code",
      "metadata": {
        "colab": {
          "base_uri": "https://localhost:8080/",
          "height": 917
        },
        "id": "EdZy8uvEp3U7",
        "outputId": "9070b698-c18f-4999-d708-f6a5167ff548"
      },
      "source": [
        "df = pd.concat([json_ecartelera, json_IMDB, json_Tomatoes], axis=1)\n",
        "df.columns = ['eCartelera', 'IMDB', 'RottenTomatoes']\n",
        "df"
      ],
      "execution_count": 7,
      "outputs": [
        {
          "output_type": "execute_result",
          "data": {
            "text/html": [
              "<div>\n",
              "<style scoped>\n",
              "    .dataframe tbody tr th:only-of-type {\n",
              "        vertical-align: middle;\n",
              "    }\n",
              "\n",
              "    .dataframe tbody tr th {\n",
              "        vertical-align: top;\n",
              "    }\n",
              "\n",
              "    .dataframe thead th {\n",
              "        text-align: right;\n",
              "    }\n",
              "</style>\n",
              "<table border=\"1\" class=\"dataframe\">\n",
              "  <thead>\n",
              "    <tr style=\"text-align: right;\">\n",
              "      <th></th>\n",
              "      <th>eCartelera</th>\n",
              "      <th>IMDB</th>\n",
              "      <th>RottenTomatoes</th>\n",
              "    </tr>\n",
              "  </thead>\n",
              "  <tbody>\n",
              "    <tr>\n",
              "      <th>@context</th>\n",
              "      <td>http://schema.org</td>\n",
              "      <td>https://schema.org</td>\n",
              "      <td>http://schema.org</td>\n",
              "    </tr>\n",
              "    <tr>\n",
              "      <th>@type</th>\n",
              "      <td>Movie</td>\n",
              "      <td>Movie</td>\n",
              "      <td>Movie</td>\n",
              "    </tr>\n",
              "    <tr>\n",
              "      <th>@id</th>\n",
              "      <td>https://www.ecartelera.com/peliculas/wonder-wo...</td>\n",
              "      <td>NaN</td>\n",
              "      <td>NaN</td>\n",
              "    </tr>\n",
              "    <tr>\n",
              "      <th>name</th>\n",
              "      <td>Wonder Woman 1984</td>\n",
              "      <td>Wonder Woman 1984</td>\n",
              "      <td>Wonder Woman 1984</td>\n",
              "    </tr>\n",
              "    <tr>\n",
              "      <th>mainEntityOfPage</th>\n",
              "      <td>https://www.ecartelera.com/peliculas/wonder-wo...</td>\n",
              "      <td>NaN</td>\n",
              "      <td>NaN</td>\n",
              "    </tr>\n",
              "    <tr>\n",
              "      <th>description</th>\n",
              "      <td>&amp;#39;Wonder Woman 1984&amp;#39; llegará a la panta...</td>\n",
              "      <td>Diana must contend with a work colleague and b...</td>\n",
              "      <td>NaN</td>\n",
              "    </tr>\n",
              "    <tr>\n",
              "      <th>duration</th>\n",
              "      <td>PT2H31M</td>\n",
              "      <td>PT2H31M</td>\n",
              "      <td>NaN</td>\n",
              "    </tr>\n",
              "    <tr>\n",
              "      <th>image</th>\n",
              "      <td>{'@type': 'ImageObject', 'url': 'https://img.e...</td>\n",
              "      <td>https://m.media-amazon.com/images/M/MV5BYTlhNz...</td>\n",
              "      <td>https://resizing.flixster.com/sr2SNIPoCFaMLQt-...</td>\n",
              "    </tr>\n",
              "    <tr>\n",
              "      <th>countryOfOrigin</th>\n",
              "      <td>EE.UU.</td>\n",
              "      <td>NaN</td>\n",
              "      <td>NaN</td>\n",
              "    </tr>\n",
              "    <tr>\n",
              "      <th>genre</th>\n",
              "      <td>[Acción, Aventura, Fantasía]</td>\n",
              "      <td>[Action, Adventure, Fantasy]</td>\n",
              "      <td>[Action &amp; Adventure, Science Fiction &amp; Fantasy]</td>\n",
              "    </tr>\n",
              "    <tr>\n",
              "      <th>releasedEvent</th>\n",
              "      <td>{'@type': 'PublicationEvent', 'startDate': '20...</td>\n",
              "      <td>NaN</td>\n",
              "      <td>NaN</td>\n",
              "    </tr>\n",
              "    <tr>\n",
              "      <th>productionCompany</th>\n",
              "      <td>{'@type': 'Organization', 'name': 'Warner Bros...</td>\n",
              "      <td>NaN</td>\n",
              "      <td>{'@type': 'Organization', 'name': 'Warner Bros...</td>\n",
              "    </tr>\n",
              "    <tr>\n",
              "      <th>hasPart</th>\n",
              "      <td>{'@type': 'Clip', 'description': 'trailer', 't...</td>\n",
              "      <td>NaN</td>\n",
              "      <td>NaN</td>\n",
              "    </tr>\n",
              "    <tr>\n",
              "      <th>director</th>\n",
              "      <td>[{'@type': 'Person', 'name': 'Patty Jenkins', ...</td>\n",
              "      <td>[{'@type': 'Person', 'url': '/name/nm0420941/'...</td>\n",
              "      <td>[{'@type': 'Person', 'name': 'Patty Jenkins', ...</td>\n",
              "    </tr>\n",
              "    <tr>\n",
              "      <th>actor</th>\n",
              "      <td>[{'@type': 'Person', 'name': 'Gal Gadot', 'mai...</td>\n",
              "      <td>[{'@type': 'Person', 'url': '/name/nm2933757/'...</td>\n",
              "      <td>NaN</td>\n",
              "    </tr>\n",
              "    <tr>\n",
              "      <th>aggregateRating</th>\n",
              "      <td>{'@type': 'AggregateRating', 'bestRating': '10...</td>\n",
              "      <td>{'@type': 'AggregateRating', 'ratingCount': 20...</td>\n",
              "      <td>{'@type': 'AggregateRating', 'name': 'Tomatome...</td>\n",
              "    </tr>\n",
              "    <tr>\n",
              "      <th>url</th>\n",
              "      <td>NaN</td>\n",
              "      <td>/title/tt7126948/</td>\n",
              "      <td>https://www.rottentomatoes.com/m/wonder_woman_...</td>\n",
              "    </tr>\n",
              "    <tr>\n",
              "      <th>contentRating</th>\n",
              "      <td>NaN</td>\n",
              "      <td>12</td>\n",
              "      <td>PG-13</td>\n",
              "    </tr>\n",
              "    <tr>\n",
              "      <th>creator</th>\n",
              "      <td>NaN</td>\n",
              "      <td>[{'@type': 'Organization', 'url': '/company/co...</td>\n",
              "      <td>NaN</td>\n",
              "    </tr>\n",
              "    <tr>\n",
              "      <th>trailer</th>\n",
              "      <td>NaN</td>\n",
              "      <td>{'@type': 'VideoObject', 'name': 'Stream on HB...</td>\n",
              "      <td>NaN</td>\n",
              "    </tr>\n",
              "    <tr>\n",
              "      <th>datePublished</th>\n",
              "      <td>NaN</td>\n",
              "      <td>2020-12-18</td>\n",
              "      <td>None</td>\n",
              "    </tr>\n",
              "    <tr>\n",
              "      <th>keywords</th>\n",
              "      <td>NaN</td>\n",
              "      <td>sequel,superhero,dc extended universe,princess...</td>\n",
              "      <td>NaN</td>\n",
              "    </tr>\n",
              "    <tr>\n",
              "      <th>review</th>\n",
              "      <td>NaN</td>\n",
              "      <td>{'@type': 'Review', 'itemReviewed': {'@type': ...</td>\n",
              "      <td>[{'@type': 'Review', 'reviewBody': 'Wonder Wom...</td>\n",
              "    </tr>\n",
              "    <tr>\n",
              "      <th>dateModified</th>\n",
              "      <td>NaN</td>\n",
              "      <td>NaN</td>\n",
              "      <td>2021-06-10T21:02:19-07:00</td>\n",
              "    </tr>\n",
              "    <tr>\n",
              "      <th>dateCreated</th>\n",
              "      <td>NaN</td>\n",
              "      <td>NaN</td>\n",
              "      <td>2017-09-13T08:24:15-07:00</td>\n",
              "    </tr>\n",
              "    <tr>\n",
              "      <th>actors</th>\n",
              "      <td>NaN</td>\n",
              "      <td>NaN</td>\n",
              "      <td>[{'@type': 'Person', 'name': 'Gal Gadot', 'sam...</td>\n",
              "    </tr>\n",
              "    <tr>\n",
              "      <th>character</th>\n",
              "      <td>NaN</td>\n",
              "      <td>NaN</td>\n",
              "      <td>[Diana Prince / Wonder Woman, Barbara Minerva ...</td>\n",
              "    </tr>\n",
              "    <tr>\n",
              "      <th>author</th>\n",
              "      <td>NaN</td>\n",
              "      <td>NaN</td>\n",
              "      <td>[{'@type': 'Person', 'name': 'Patty Jenkins', ...</td>\n",
              "    </tr>\n",
              "  </tbody>\n",
              "</table>\n",
              "</div>"
            ],
            "text/plain": [
              "                                                          eCartelera  ...                                     RottenTomatoes\n",
              "@context                                           http://schema.org  ...                                  http://schema.org\n",
              "@type                                                          Movie  ...                                              Movie\n",
              "@id                https://www.ecartelera.com/peliculas/wonder-wo...  ...                                                NaN\n",
              "name                                               Wonder Woman 1984  ...                                  Wonder Woman 1984\n",
              "mainEntityOfPage   https://www.ecartelera.com/peliculas/wonder-wo...  ...                                                NaN\n",
              "description        &#39;Wonder Woman 1984&#39; llegará a la panta...  ...                                                NaN\n",
              "duration                                                     PT2H31M  ...                                                NaN\n",
              "image              {'@type': 'ImageObject', 'url': 'https://img.e...  ...  https://resizing.flixster.com/sr2SNIPoCFaMLQt-...\n",
              "countryOfOrigin                                               EE.UU.  ...                                                NaN\n",
              "genre                                   [Acción, Aventura, Fantasía]  ...    [Action & Adventure, Science Fiction & Fantasy]\n",
              "releasedEvent      {'@type': 'PublicationEvent', 'startDate': '20...  ...                                                NaN\n",
              "productionCompany  {'@type': 'Organization', 'name': 'Warner Bros...  ...  {'@type': 'Organization', 'name': 'Warner Bros...\n",
              "hasPart            {'@type': 'Clip', 'description': 'trailer', 't...  ...                                                NaN\n",
              "director           [{'@type': 'Person', 'name': 'Patty Jenkins', ...  ...  [{'@type': 'Person', 'name': 'Patty Jenkins', ...\n",
              "actor              [{'@type': 'Person', 'name': 'Gal Gadot', 'mai...  ...                                                NaN\n",
              "aggregateRating    {'@type': 'AggregateRating', 'bestRating': '10...  ...  {'@type': 'AggregateRating', 'name': 'Tomatome...\n",
              "url                                                              NaN  ...  https://www.rottentomatoes.com/m/wonder_woman_...\n",
              "contentRating                                                    NaN  ...                                              PG-13\n",
              "creator                                                          NaN  ...                                                NaN\n",
              "trailer                                                          NaN  ...                                                NaN\n",
              "datePublished                                                    NaN  ...                                               None\n",
              "keywords                                                         NaN  ...                                                NaN\n",
              "review                                                           NaN  ...  [{'@type': 'Review', 'reviewBody': 'Wonder Wom...\n",
              "dateModified                                                     NaN  ...                          2021-06-10T21:02:19-07:00\n",
              "dateCreated                                                      NaN  ...                          2017-09-13T08:24:15-07:00\n",
              "actors                                                           NaN  ...  [{'@type': 'Person', 'name': 'Gal Gadot', 'sam...\n",
              "character                                                        NaN  ...  [Diana Prince / Wonder Woman, Barbara Minerva ...\n",
              "author                                                           NaN  ...  [{'@type': 'Person', 'name': 'Patty Jenkins', ...\n",
              "\n",
              "[28 rows x 3 columns]"
            ]
          },
          "metadata": {
            "tags": []
          },
          "execution_count": 7
        }
      ]
    },
    {
      "cell_type": "markdown",
      "metadata": {
        "id": "1An4tOqEp3U8"
      },
      "source": [
        "## Seleccionamos y combinamos valores de cada fuente de datos"
      ]
    },
    {
      "cell_type": "code",
      "metadata": {
        "id": "7JG5FKodp3U9"
      },
      "source": [
        "json_total = pd.Series(dtype='float64')"
      ],
      "execution_count": 8,
      "outputs": []
    },
    {
      "cell_type": "code",
      "metadata": {
        "id": "dIXn5nLFwAtG",
        "outputId": "47ec3fbe-445e-494a-d3ba-7fb6700106e0",
        "colab": {
          "base_uri": "https://localhost:8080/"
        }
      },
      "source": [
        "enGenre = list(itertools.chain.from_iterable(\n",
        "    [i.split(' & ') for i in df.loc['genre', 'RottenTomatoes']]\n",
        ")) + df.loc['genre', 'IMDB']\n",
        "\n",
        "enGenre = list(dict.fromkeys(enGenre))\n",
        "\n",
        "enGenre"
      ],
      "execution_count": 61,
      "outputs": [
        {
          "output_type": "execute_result",
          "data": {
            "text/plain": [
              "['Action', 'Adventure', 'Science Fiction', 'Fantasy']"
            ]
          },
          "metadata": {
            "tags": []
          },
          "execution_count": 61
        }
      ]
    },
    {
      "cell_type": "code",
      "metadata": {
        "colab": {
          "base_uri": "https://localhost:8080/"
        },
        "id": "Jxoncrm0p3U9",
        "outputId": "58d1d15c-10e2-4c94-f59b-95c703deb8b3"
      },
      "source": [
        "json_total['@context'] = df.loc['@context', 'eCartelera']\n",
        "\n",
        "json_total['@type'] = df.loc['@type', 'eCartelera']\n",
        "\n",
        "json_total['name'] = df.loc['name', 'IMDB']\n",
        "\n",
        "json_total['description'] = {\n",
        "  \"en\": df.loc['description', 'IMDB'],\n",
        "  \"es\":df.loc['description', 'eCartelera']\n",
        "}\n",
        "\n",
        "json_total['duration'] = df.loc['duration', 'IMDB']\n",
        "\n",
        "json_total['image'] = df.loc['image', 'IMDB']\n",
        "\n",
        "json_total['countryOfOrigin'] = df.loc['countryOfOrigin', 'eCartelera']\n",
        "\n",
        "json_total['genre'] = {\n",
        "  \"en\": enGenre,\n",
        "  \"es\": df.loc['genre', 'eCartelera']\n",
        "}\n",
        "\n",
        "json_total['productionCompany'] = df.loc['productionCompany', 'RottenTomatoes']\n",
        "\n",
        "json_total['director'] = df.loc['productionCompany', 'RottenTomatoes']\n",
        "\n",
        "json_total['actor'] = df.loc['actors', 'RottenTomatoes']\n",
        "\n",
        "json_total['aggregateRating'] = {\n",
        "    \"eCartelera\": float(df.loc['aggregateRating', 'eCartelera']['ratingValue'].replace(',', '.')),\n",
        "    \"IMDB\": df.loc['aggregateRating', 'IMDB']['ratingValue'],\n",
        "    \"RottenTomatoes\": float(df.loc['aggregateRating', 'RottenTomatoes']['ratingValue']),\n",
        "    \"ownMetrics\": (\n",
        "    float(df.loc['aggregateRating', 'eCartelera']['ratingValue'].replace(',', '.')) + \n",
        "    df.loc['aggregateRating', 'IMDB']['ratingValue'] + \n",
        "    float(df.loc['aggregateRating', 'RottenTomatoes']['ratingValue']) / 10\n",
        "    ) / 3\n",
        "  }\n",
        "\n",
        "json_total['url'] = [\n",
        "    df.loc['@id', 'eCartelera'], \n",
        "    'https://www.imdb.com' + df.loc['url', 'IMDB'], \n",
        "    df.loc['url', 'RottenTomatoes']\n",
        "    ]\n",
        "\n",
        "json_total['contentRating'] = df.loc['contentRating', 'RottenTomatoes']\n",
        "\n",
        "json_total['trailer'] = df.loc['hasPart', 'eCartelera']\n",
        "\n",
        "json_total['datePublished'] = df.loc['releasedEvent', 'eCartelera']\n",
        "\n",
        "json_total['keywords'] = df.loc['keywords', 'IMDB']\n",
        "\n",
        "json_total['review'] = df.loc['review', 'RottenTomatoes']\n",
        "\n",
        "json_total['character'] = df.loc['character', 'RottenTomatoes']\n",
        "\n",
        "json_total['author'] = df.loc['creator', 'IMDB']\n",
        "\n",
        "json_total"
      ],
      "execution_count": 66,
      "outputs": [
        {
          "output_type": "execute_result",
          "data": {
            "text/plain": [
              "@context                                             http://schema.org\n",
              "@type                                                            Movie\n",
              "name                                                 Wonder Woman 1984\n",
              "description          {'en': 'Diana must contend with a work colleag...\n",
              "duration                                                       PT2H31M\n",
              "image                https://m.media-amazon.com/images/M/MV5BYTlhNz...\n",
              "countryOfOrigin                                                 EE.UU.\n",
              "genre                {'en': ['Action', 'Adventure', 'Science Fictio...\n",
              "productionCompany    {'@type': 'Organization', 'name': 'Warner Bros...\n",
              "director             {'@type': 'Organization', 'name': 'Warner Bros...\n",
              "actor                [{'@type': 'Person', 'name': 'Gal Gadot', 'sam...\n",
              "aggregateRating      {'eCartelera': 7.6, 'IMDB': 5.4, 'RottenTomato...\n",
              "url                  [https://www.ecartelera.com/peliculas/wonder-w...\n",
              "contentRating                                                    PG-13\n",
              "trailer              {'@type': 'Clip', 'description': 'trailer', 't...\n",
              "datePublished        {'@type': 'PublicationEvent', 'startDate': '20...\n",
              "keywords             sequel,superhero,dc extended universe,princess...\n",
              "review               [{'@type': 'Review', 'reviewBody': 'Wonder Wom...\n",
              "character            [Diana Prince / Wonder Woman, Barbara Minerva ...\n",
              "author               [{'@type': 'Organization', 'url': '/company/co...\n",
              "dtype: object"
            ]
          },
          "metadata": {
            "tags": []
          },
          "execution_count": 66
        }
      ]
    },
    {
      "cell_type": "markdown",
      "metadata": {
        "id": "KnBi4tgBp3U-"
      },
      "source": [
        "## Exportamos el JSON totalizado"
      ]
    },
    {
      "cell_type": "code",
      "metadata": {
        "id": "qegHrStHp3U-"
      },
      "source": [
        "json_total.to_json('json_total.json')"
      ],
      "execution_count": 68,
      "outputs": []
    }
  ]
}